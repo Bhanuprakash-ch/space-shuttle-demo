{
 "cells": [
  {
   "cell_type": "code",
   "execution_count": null,
   "metadata": {
    "collapsed": false
   },
   "outputs": [],
   "source": [
    "import trustedanalytics as ia\n",
    "\n",
    "print \"ia imported from %s\",ia.__file__\n",
    "ia.loggers.set(level='ERROR', logger_name='meta')\n",
    "ia.server.uri=\"spaceshuttle_atk-c23c180d.ontap07.demo-gotapaas.com\"\n",
    "ia.connect(r'Shuttle.creds')\n",
    "\n",
    "#ia.loggers.set_api()\n"
   ]
  },
  {
   "cell_type": "code",
   "execution_count": null,
   "metadata": {
    "collapsed": true
   },
   "outputs": [],
   "source": [
    "drop_objects = True\n",
    "\n",
    "def drop(pattern):    \n",
    "    map(atk.drop_frames, filter(lambda x: not x.find(pattern) < 0, atk.get_frame_names()))\n",
    "    map(atk.drop_graphs, filter(lambda x: not x.find(pattern) < 0, atk.get_graph_names()))\n",
    "    map(atk.drop_models, filter(lambda x: not x.find(pattern) < 0, atk.get_model_names()))"
   ]
  },
  {
   "cell_type": "code",
   "execution_count": null,
   "metadata": {
    "collapsed": false
   },
   "outputs": [],
   "source": [
    "ds=\"hdfs://nameservice1/org/1c0f8db7-eb32-4c5c-b24f-c07511b08268/brokers/userspace/ca7787f2-88aa-400f-a39b-52e5cf3df5ec/83f80b76-3823-4c05-9db4-f30f30efa9c3/000000_1\"\n",
    "sc=[(\"label\",ia.float64),(\"feature1\", ia.float64), (\"feature2\", ia.float64), (\"feature3\", ia.float64), (\"feature4\", ia.float64), (\"feature5\", ia.float64), (\"feature6\", ia.float64), (\"feature7\", ia.float64), (\"feature8\", ia.float64), (\"feature9\", ia.float64)]\n",
    "csv=ia.CsvFile(ds,sc,',',0)\n",
    "ff2 = ia.Frame(csv)\n"
   ]
  },
  {
   "cell_type": "code",
   "execution_count": null,
   "metadata": {
    "collapsed": false
   },
   "outputs": [],
   "source": [
    "print ff2.inspect()\n",
    "name = 'ShuttleSVMModel'\n",
    "if name in ia.get_model_names():\n",
    "    ia.drop_models(name)\n",
    "SSVMModel = ia.LibsvmModel(name)\n",
    "\n",
    "SSVMModel.train(ff2, \"label\", [\"feature1\", \"feature2\", \"feature3\", \"feature4\", \"feature5\", \"feature6\", \"feature7\", \"feature8\", \"feature9\"], epsilon=0.000001, degree=3, gamma=0.11, coef=0.0, nu=0.0001, cache_size=100.0, shrinking=1, probability=0, c=1.0, p=0.1, nr_weight=0)"
   ]
  },
  {
   "cell_type": "code",
   "execution_count": null,
   "metadata": {
    "collapsed": false
   },
   "outputs": [],
   "source": [
    "print ia.get_model_names()\n",
    "print ia.get_frame_names()"
   ]
  },
  {
   "cell_type": "code",
   "execution_count": null,
   "metadata": {
    "collapsed": false
   },
   "outputs": [],
   "source": [
    "SSVMModel = ia.get_model('ShuttleSVMModel')\n",
    "SSVMModel.publish()"
   ]
  },
  {
   "cell_type": "code",
   "execution_count": null,
   "metadata": {
    "collapsed": false
   },
   "outputs": [],
   "source": [
    "SSVMModel.test(ff2, \"label\", [\"feature1\", \"feature2\", \"feature3\", \"feature4\", \"feature5\", \"feature6\", \"feature7\", \"feature8\", \"feature9\"])"
   ]
  }
 ],
 "metadata": {
  "kernelspec": {
   "display_name": "Python 2",
   "language": "python",
   "name": "python2"
  },
  "language_info": {
   "codemirror_mode": {
    "name": "ipython",
    "version": 2
   },
   "file_extension": ".py",
   "mimetype": "text/x-python",
   "name": "python",
   "nbconvert_exporter": "python",
   "pygments_lexer": "ipython2",
   "version": "2.7.11"
  }
 },
 "nbformat": 4,
 "nbformat_minor": 0
}
